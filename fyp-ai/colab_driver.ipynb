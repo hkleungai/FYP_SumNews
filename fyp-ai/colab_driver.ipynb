{
  "nbformat": 4,
  "nbformat_minor": 0,
  "metadata": {
    "colab": {
      "name": "colab_driver.ipynb",
      "provenance": [],
      "collapsed_sections": [],
      "toc_visible": true
    },
    "kernelspec": {
      "name": "python3",
      "display_name": "Python 3"
    }
  },
  "cells": [
    {
      "cell_type": "code",
      "metadata": {
        "id": "KSFd_YJrL63X"
      },
      "source": [
        "'''\n",
        "\n",
        "Below are some guidelines on simple envionment setup.\n",
        "\n",
        "'''"
      ],
      "execution_count": null,
      "outputs": []
    },
    {
      "cell_type": "code",
      "metadata": {
        "id": "jyDAICyMQDje"
      },
      "source": [
        "'''\n",
        "\n",
        "(0) Get prepared with google's colab\n",
        "  - Login to https://colab.research.google.com/ with your google account.\n",
        "  - Upload this notebook to the environment\n",
        "  - In the notebook settings, change the running hardware from None to GPU\n",
        "\n",
        "'''"
      ],
      "execution_count": null,
      "outputs": []
    },
    {
      "cell_type": "code",
      "metadata": {
        "id": "Q6S8vYVEM4LH"
      },
      "source": [
        "'''\n",
        "\n",
        "(1) Mount to your own google drive for storing project folders\n",
        "\n",
        "'''\n",
        "\n",
        "import os\n",
        "from google.colab import drive\n",
        "DRIVE_PATH = '/content/gdrive' # Or input your own custom paths      \n",
        "drive.mount(DRIVE_PATH)\n",
        "os.chdir(DRIVE_PATH)"
      ],
      "execution_count": null,
      "outputs": []
    },
    {
      "cell_type": "code",
      "metadata": {
        "id": "cE_8glLKM4Zd"
      },
      "source": [
        "'''\n",
        "\n",
        "(2) Obtain the folders via git OR colab's native upload.\n",
        "\n",
        "  Git\n",
        "  - SSH key need to be generated and stored in github\n",
        "  - Cloning can then be done with the SSH key\n",
        "  (Further details are omitted)\n",
        "\n",
        "  Colab's upload\n",
        "  - In local pc, zip the folders fyp-ai/ and fyp-db/\n",
        "    - Be sure to remove the large .cache/ folder in fyp-ai/ first\n",
        "  - Upload the zips into the drive\n",
        "  - Unzip them in colab's machines\n",
        "\n",
        "'''\n",
        "\n",
        "# For Colab's upload\n",
        "from google.colab import files\n",
        "files.upload()\n",
        "! unzip '*.zip'\n",
        "! rm *.zip"
      ],
      "execution_count": null,
      "outputs": []
    },
    {
      "cell_type": "code",
      "metadata": {
        "id": "T1Q5pDjWM4jb"
      },
      "source": [
        "'''\n",
        "\n",
        "(3) Change directory to fyp-ai \n",
        "\n",
        "'''\n",
        "\n",
        "import os\n",
        "os.chdir(f'{DRIVE_PATH}/fyp-ai')"
      ],
      "execution_count": null,
      "outputs": []
    },
    {
      "cell_type": "code",
      "metadata": {
        "id": "d3OyN1rtN11c"
      },
      "source": [
        "'''\n",
        "\n",
        "(4) Install the necessary dependencies\n",
        "\n",
        "'''\n",
        "\n",
        "# Seems some in requirements_pip are already in the environment,\n",
        "# but now for keeping things simple, we would go with this anyway.\n",
        "# These steps altogether take around 10 minutes.\n",
        "! pip install -r requirements_colab.txt\n",
        "! python -m spacy download en_core_web_lg\n",
        "! apt-get update\n",
        "! apt install chromium-chromedriver\n",
        "! cp /usr/lib/chromium-browser/chromedriver /usr/bin"
      ],
      "execution_count": null,
      "outputs": []
    },
    {
      "cell_type": "code",
      "metadata": {
        "id": "pIU8mUBCOHm-"
      },
      "source": [
        "'''\n",
        "\n",
        "At this point you should be able to run the demo programs.\n",
        "If any of the below fails, you may wanna rerun the last cell.\n",
        "\n",
        "'''\n",
        "\n",
        "! python demo_same_topic_classifier.py\n",
        "! python demo_scraper.py\n",
        "! python demo_summarization.py"
      ],
      "execution_count": null,
      "outputs": []
    },
    {
      "cell_type": "code",
      "metadata": {
        "id": "BtIpBDZmPrUO"
      },
      "source": [
        "'''\n",
        "\n",
        "If the demos run fine, you may now help contribute to the project.\n",
        "\n",
        "'''\n",
        "\n",
        "! python main.py"
      ],
      "execution_count": null,
      "outputs": []
    }
  ]
}